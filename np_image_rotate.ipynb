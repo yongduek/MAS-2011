{
 "cells": [
  {
   "cell_type": "code",
   "execution_count": 25,
   "metadata": {},
   "outputs": [
    {
     "name": "stdout",
     "output_type": "stream",
     "text": [
      "[[  0   1   2 ... 637 638 639]\n",
      " [  0   1   2 ... 637 638 639]\n",
      " [  0   1   2 ... 637 638 639]\n",
      " ...\n",
      " [  0   1   2 ... 637 638 639]\n",
      " [  0   1   2 ... 637 638 639]\n",
      " [  0   1   2 ... 637 638 639]] [[  0   0   0 ...   0   0   0]\n",
      " [  1   1   1 ...   1   1   1]\n",
      " [  2   2   2 ...   2   2   2]\n",
      " ...\n",
      " [423 423 423 ... 423 423 423]\n",
      " [424 424 424 ... 424 424 424]\n",
      " [425 425 425 ... 425 425 425]]\n",
      "[  0   1   2 ... 637 638 639] [  0   0   0 ... 425 425 425]\n"
     ]
    }
   ],
   "source": [
    "import cv2, numpy as np \n",
    "import matplotlib.pyplot as plt \n",
    "\n",
    "im = cv2.imread(\"pixels/image-15.png\")\n",
    "canvas = np.zeros((1200, 2000, 3), dtype='uint8')\n",
    "\n",
    "\n",
    "x = np.arange(im.shape[1])\n",
    "y = np.arange(im.shape[0])\n",
    "xg, yg = np.meshgrid(x, y)\n",
    "print(xg, yg)\n",
    "xg = xg.reshape(-1)\n",
    "yg = yg.reshape(-1)\n",
    "print(xg, yg)\n",
    "\n",
    "\n",
    "th = 30 * np.pi / 180\n",
    "\n",
    "xc = xg * np.cos(th) - yg * np.sin(th)\n",
    "yc = xg * np.sin(th) + yg * np.cos(th)\n",
    "xci = xc.astype(int)\n",
    "yci = yc.astype(int)"
   ]
  },
  {
   "cell_type": "code",
   "execution_count": 15,
   "metadata": {},
   "outputs": [
    {
     "data": {
      "text/plain": [
       "array([  0,   0,   0, ..., 293, 294, 294])"
      ]
     },
     "execution_count": 15,
     "metadata": {},
     "output_type": "execute_result"
    }
   ],
   "source": [
    "xx = xci[ np.ma.masked_inside(xci, 0, canvas.shape[1]-1) ]\n",
    "yy = yci[ np.ma.masked_inside(yci, 0, canvas.shape[0]-1) ]"
   ]
  },
  {
   "cell_type": "code",
   "execution_count": 16,
   "metadata": {},
   "outputs": [
    {
     "data": {
      "text/plain": [
       "(272640,)"
      ]
     },
     "execution_count": 16,
     "metadata": {},
     "output_type": "execute_result"
    }
   ],
   "source": [
    "xg.shape"
   ]
  },
  {
   "cell_type": "code",
   "execution_count": 17,
   "metadata": {},
   "outputs": [],
   "source": [
    "xgi = xg[ np.ma.masked_inside(xci, 0, canvas.shape[1]-1) ]\n",
    "ygi = yg[ np.ma.masked_inside(yci, 0, canvas.shape[0]-1) ]"
   ]
  },
  {
   "cell_type": "code",
   "execution_count": 18,
   "metadata": {},
   "outputs": [
    {
     "data": {
      "text/plain": [
       "array([  0,   0,   1, ..., 339, 340, 340])"
      ]
     },
     "execution_count": 18,
     "metadata": {},
     "output_type": "execute_result"
    }
   ],
   "source": [
    "xgi"
   ]
  },
  {
   "cell_type": "code",
   "execution_count": 20,
   "metadata": {},
   "outputs": [
    {
     "data": {
      "text/plain": [
       "array([ 86, 165, 204], dtype=uint8)"
      ]
     },
     "execution_count": 20,
     "metadata": {},
     "output_type": "execute_result"
    }
   ],
   "source": [
    "ii = im.reshape(-1, 3)\n",
    "ii[0]"
   ]
  },
  {
   "cell_type": "code",
   "execution_count": 21,
   "metadata": {},
   "outputs": [
    {
     "data": {
      "text/plain": [
       "array([[ 86, 165, 204],\n",
       "       [ 86, 165, 204],\n",
       "       [ 86, 165, 204],\n",
       "       ...,\n",
       "       [ 86, 184, 254],\n",
       "       [ 86, 184, 254],\n",
       "       [ 86, 184, 254]], dtype=uint8)"
      ]
     },
     "execution_count": 21,
     "metadata": {},
     "output_type": "execute_result"
    }
   ],
   "source": [
    "ii[xgi]"
   ]
  },
  {
   "cell_type": "code",
   "execution_count": 34,
   "metadata": {},
   "outputs": [],
   "source": [
    "m = im[:,:,0] > 128\n",
    "im[im[:,:,0] <= 128] = 0\n",
    "im[im[:,:,0] > 128] = 255"
   ]
  },
  {
   "cell_type": "code",
   "execution_count": 35,
   "metadata": {},
   "outputs": [
    {
     "data": {
      "text/plain": [
       "<matplotlib.image.AxesImage at 0x1ecf874d130>"
      ]
     },
     "execution_count": 35,
     "metadata": {},
     "output_type": "execute_result"
    },
    {
     "data": {
      "image/png": "[encoded data removed]",
      "text/plain": [
       "<Figure size 432x288 with 1 Axes>"
      ]
     },
     "metadata": {
      "needs_background": "light"
     },
     "output_type": "display_data"
    }
   ],
   "source": [
    "plt.imshow(im);"
   ]
  },
  {
   "cell_type": "code",
   "execution_count": null,
   "metadata": {},
   "outputs": [],
   "source": []
  }
 ],
 "metadata": {
  "kernelspec": {
   "display_name": "Python 3.8.10 64-bit",
   "language": "python",
   "name": "python3"
  },
  "language_info": {
   "codemirror_mode": {
    "name": "ipython",
    "version": 3
   },
   "file_extension": ".py",
   "mimetype": "text/x-python",
   "name": "python",
   "nbconvert_exporter": "python",
   "pygments_lexer": "ipython3",
   "version": "3.8.10"
  },
  "orig_nbformat": 4,
  "vscode": {
   "interpreter": {
    "hash": "890420746f208cb6ddd22111006905b5179748c11b11778b577dc5b772fa3540"
   }
  }
 },
 "nbformat": 4,
 "nbformat_minor": 2
}
