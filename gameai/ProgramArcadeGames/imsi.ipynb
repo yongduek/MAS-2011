{
 "cells": [
  {
   "cell_type": "code",
   "execution_count": 1,
   "metadata": {},
   "outputs": [],
   "source": [
    "import numpy as np \n",
    "import imageio \n",
    "import matplotlib.pyplot as plt "
   ]
  },
  {
   "cell_type": "code",
   "execution_count": 2,
   "metadata": {},
   "outputs": [],
   "source": [
    "im = imageio.imread(\"playerShip1_orange.png\")"
   ]
  },
  {
   "cell_type": "code",
   "execution_count": 3,
   "metadata": {},
   "outputs": [
    {
     "data": {
      "text/plain": [
       "(75, 99, 4)"
      ]
     },
     "execution_count": 3,
     "metadata": {},
     "output_type": "execute_result"
    }
   ],
   "source": [
    "im.shape "
   ]
  },
  {
   "cell_type": "code",
   "execution_count": 4,
   "metadata": {},
   "outputs": [
    {
     "data": {
      "text/plain": [
       "<matplotlib.image.AxesImage at 0x21cc4c70e20>"
      ]
     },
     "execution_count": 4,
     "metadata": {},
     "output_type": "execute_result"
    },
    {
     "data": {
      "image/png": "[encoded data removed]",
      "text/plain": [
       "<Figure size 432x288 with 1 Axes>"
      ]
     },
     "metadata": {
      "needs_background": "light"
     },
     "output_type": "display_data"
    }
   ],
   "source": [
    "plt.imshow(im)"
   ]
  },
  {
   "cell_type": "code",
   "execution_count": 5,
   "metadata": {},
   "outputs": [
    {
     "name": "stdout",
     "output_type": "stream",
     "text": [
      "pygame 2.1.2 (SDL 2.0.18, Python 3.8.10)\n",
      "Hello from the pygame community. https://www.pygame.org/contribute.html\n"
     ]
    }
   ],
   "source": [
    "import pygame"
   ]
  },
  {
   "cell_type": "code",
   "execution_count": 8,
   "metadata": {},
   "outputs": [
    {
     "name": "stdout",
     "output_type": "stream",
     "text": [
      "<VideoInfo(hw = 0, wm = 1,video_mem = 0\n",
      "         blit_hw = 0, blit_hw_CC = 0, blit_hw_A = 0,\n",
      "         blit_sw = 0, blit_sw_CC = 0, blit_sw_A = 0,\n",
      "         bitsize  = 32, bytesize = 4,\n",
      "         masks =  (16711680, 65280, 255, 0),\n",
      "         shifts = (16, 8, 0, 0),\n",
      "         losses =  (0, 0, 0, 8),\n",
      "         current_w = 3072, current_h = 1728\n",
      ">\n",
      "\n"
     ]
    }
   ],
   "source": [
    "pygame.init()\n",
    "vidInfo = pygame.display.Info()\n",
    "print(vidInfo)"
   ]
  },
  {
   "cell_type": "code",
   "execution_count": 9,
   "metadata": {},
   "outputs": [
    {
     "data": {
      "text/plain": [
       "[(3840, 2160),\n",
       " (2560, 1600),\n",
       " (2560, 1440),\n",
       " (2048, 1536),\n",
       " (1920, 1440),\n",
       " (1920, 1200),\n",
       " (1920, 1080),\n",
       " (1680, 1050),\n",
       " (1600, 1200),\n",
       " (1600, 1024),\n",
       " (1600, 900),\n",
       " (1366, 768),\n",
       " (1360, 768),\n",
       " (1280, 1024),\n",
       " (1280, 960),\n",
       " (1280, 800),\n",
       " (1280, 768),\n",
       " (1280, 720),\n",
       " (1176, 664),\n",
       " (1152, 864),\n",
       " (1024, 768),\n",
       " (800, 600),\n",
       " (720, 576),\n",
       " (720, 480),\n",
       " (640, 480)]"
      ]
     },
     "execution_count": 9,
     "metadata": {},
     "output_type": "execute_result"
    }
   ],
   "source": [
    "pygame.display.list_modes()"
   ]
  },
  {
   "cell_type": "code",
   "execution_count": 1,
   "metadata": {},
   "outputs": [
    {
     "name": "stdout",
     "output_type": "stream",
     "text": [
      "Report for John Smith\n",
      "Employee report for Jane Employee\n",
      "Report for Bob Customer\n",
      "Customer e-mail: send_me@spam.com\n"
     ]
    }
   ],
   "source": [
    "class Person():\n",
    "    def __init__(self):\n",
    "        self.name = \"\"\n",
    " \n",
    "    def report(self):\n",
    "        # Basic report\n",
    "        print(\"Report for\", self.name)\n",
    " \n",
    "class Employee(Person):\n",
    "    def __init__(self):\n",
    "        # Call the parent/super class constructor first\n",
    "        super().__init__()\n",
    " \n",
    "        # Now set up our variables\n",
    "        self.job_title = \"\"\n",
    " \n",
    "    def report(self):\n",
    "        # Here we override report and just do this:\n",
    "        print(\"Employee report for\", self.name)\n",
    " \n",
    "class Customer(Person):\n",
    "    def __init__(self):\n",
    "        super().__init__()\n",
    "        self.email = \"\"\n",
    " \n",
    "    def report(self):\n",
    "        # Run the parent report:\n",
    "        super().report()\n",
    "        # Now add our own stuff to the end so we do both\n",
    "        print(\"Customer e-mail:\", self.email)\n",
    " \n",
    "john_smith = Person()\n",
    "john_smith.name = \"John Smith\"\n",
    " \n",
    "jane_employee = Employee()\n",
    "jane_employee.name = \"Jane Employee\"\n",
    "jane_employee.job_title = \"Web Developer\"\n",
    " \n",
    "bob_customer = Customer()\n",
    "bob_customer.name = \"Bob Customer\"\n",
    "bob_customer.email = \"send_me@spam.com\"\n",
    " \n",
    "john_smith.report()\n",
    "jane_employee.report()\n",
    "bob_customer.report()"
   ]
  },
  {
   "cell_type": "code",
   "execution_count": 3,
   "metadata": {},
   "outputs": [
    {
     "name": "stdout",
     "output_type": "stream",
     "text": [
      "Report for My name\n"
     ]
    }
   ],
   "source": [
    "p = Person()\n",
    "p.name = \"My name\"\n",
    "p.report()"
   ]
  },
  {
   "cell_type": "code",
   "execution_count": 18,
   "metadata": {},
   "outputs": [],
   "source": [
    "class Person():\n",
    "    def __init__(self):\n",
    "        self.name = \"\"\n",
    "        print(\">>  Person Class\")\n",
    "    \n",
    "    def report(self):\n",
    "        # Basic report\n",
    "        print(\"Report for\", self.name)\n",
    " \n",
    "class Employee(Person):\n",
    "    def __init__(self):\n",
    "        # Call the parent/super class constructor first\n",
    "        super().__init__()\n",
    "        print(\">> Employee Class\")\n",
    "        # Now set up our variables\n",
    "        self.job_title = \"\"\n",
    " \n",
    "    def report(self):\n",
    "        # Here we override report and just do this:\n",
    "        print(\"Employee report for\", self.name, self.job_title)\n",
    " "
   ]
  },
  {
   "cell_type": "code",
   "execution_count": 19,
   "metadata": {},
   "outputs": [
    {
     "name": "stdout",
     "output_type": "stream",
     "text": [
      ">>  Person Class\n",
      ">> Employee Class\n",
      "Employee report for Name Pilot\n"
     ]
    }
   ],
   "source": [
    "e = Employee(); \n",
    "e.name = \"Name\"\n",
    "e.job_title = \"Pilot\"\n",
    "e.report()"
   ]
  },
  {
   "cell_type": "code",
   "execution_count": null,
   "metadata": {},
   "outputs": [],
   "source": []
  }
 ],
 "metadata": {
  "kernelspec": {
   "display_name": "Python 3",
   "language": "python",
   "name": "python3"
  },
  "language_info": {
   "codemirror_mode": {
    "name": "ipython",
    "version": 3
   },
   "file_extension": ".py",
   "mimetype": "text/x-python",
   "name": "python",
   "nbconvert_exporter": "python",
   "pygments_lexer": "ipython3",
   "version": "3.8.10"
  },
  "orig_nbformat": 4
 },
 "nbformat": 4,
 "nbformat_minor": 2
}
