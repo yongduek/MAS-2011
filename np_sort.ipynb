{
 "cells": [
  {
   "cell_type": "code",
   "execution_count": 1,
   "metadata": {},
   "outputs": [],
   "source": [
    "import numpy as np \n",
    "import matplotlib.pyplot as plt "
   ]
  },
  {
   "cell_type": "code",
   "execution_count": 35,
   "metadata": {},
   "outputs": [
    {
     "data": {
      "text/plain": [
       "array([[1846,  871],\n",
       "       [ 465,  154],\n",
       "       [1325,  646],\n",
       "       [1579,  561]])"
      ]
     },
     "execution_count": 35,
     "metadata": {},
     "output_type": "execute_result"
    }
   ],
   "source": [
    "width, height = 2000, 1000 \n"
   ]
  },
  {
   "cell_type": "code",
   "execution_count": 76,
   "metadata": {},
   "outputs": [],
   "source": [
    "a = np.random.randint(0, 10, size=(10, 2)) * 10\n",
    "b = np.random.randint(0, 10, size=(3,2)) * 10\n",
    "c = np.random.randint(0, 10, (4, 2)) * 10"
   ]
  },
  {
   "cell_type": "code",
   "execution_count": 77,
   "metadata": {},
   "outputs": [
    {
     "data": {
      "text/plain": [
       "array([[30, 30],\n",
       "       [50, 30],\n",
       "       [40, 80],\n",
       "       [ 0, 40],\n",
       "       [40, 10],\n",
       "       [20, 60],\n",
       "       [60, 10],\n",
       "       [90, 70],\n",
       "       [30, 30],\n",
       "       [80,  0],\n",
       "       [10, 90],\n",
       "       [70, 20],\n",
       "       [ 0, 70],\n",
       "       [50, 50],\n",
       "       [20, 20],\n",
       "       [90,  0],\n",
       "       [20, 20]])"
      ]
     },
     "execution_count": 77,
     "metadata": {},
     "output_type": "execute_result"
    }
   ],
   "source": [
    "s = np.vstack([a, b, c])\n",
    "s"
   ]
  },
  {
   "cell_type": "code",
   "execution_count": 78,
   "metadata": {},
   "outputs": [
    {
     "data": {
      "text/plain": [
       "array([[ 0, 40],\n",
       "       [ 0, 70],\n",
       "       [10, 90],\n",
       "       [20, 20],\n",
       "       [20, 20],\n",
       "       [20, 60],\n",
       "       [30, 30],\n",
       "       [30, 30],\n",
       "       [40, 10],\n",
       "       [40, 80],\n",
       "       [50, 30],\n",
       "       [50, 50],\n",
       "       [60, 10],\n",
       "       [70, 20],\n",
       "       [80,  0],\n",
       "       [90,  0],\n",
       "       [90, 70]])"
      ]
     },
     "execution_count": 78,
     "metadata": {},
     "output_type": "execute_result"
    }
   ],
   "source": [
    "ss = s[ np.lexsort((s[:,1], s[:,0]))]\n",
    "ss"
   ]
  },
  {
   "cell_type": "code",
   "execution_count": 80,
   "metadata": {},
   "outputs": [
    {
     "data": {
      "text/plain": [
       "array([[80,  0],\n",
       "       [90,  0],\n",
       "       [40, 10],\n",
       "       [60, 10],\n",
       "       [20, 20],\n",
       "       [20, 20],\n",
       "       [70, 20],\n",
       "       [30, 30],\n",
       "       [50, 30],\n",
       "       [30, 30],\n",
       "       [ 0, 40],\n",
       "       [50, 50],\n",
       "       [20, 60],\n",
       "       [ 0, 70],\n",
       "       [90, 70],\n",
       "       [40, 80],\n",
       "       [10, 90]])"
      ]
     },
     "execution_count": 80,
     "metadata": {},
     "output_type": "execute_result"
    }
   ],
   "source": [
    "s1 = s[ np.argsort(s[:, 1])]\n",
    "s1 "
   ]
  },
  {
   "cell_type": "code",
   "execution_count": 83,
   "metadata": {},
   "outputs": [
    {
     "data": {
      "text/plain": [
       "array([[ 0, 40],\n",
       "       [ 0, 70],\n",
       "       [10, 90],\n",
       "       [20, 20],\n",
       "       [20, 20],\n",
       "       [20, 60],\n",
       "       [30, 30],\n",
       "       [30, 30],\n",
       "       [40, 10],\n",
       "       [40, 80],\n",
       "       [50, 30],\n",
       "       [50, 50],\n",
       "       [60, 10],\n",
       "       [70, 20],\n",
       "       [80,  0],\n",
       "       [90,  0],\n",
       "       [90, 70]])"
      ]
     },
     "execution_count": 83,
     "metadata": {},
     "output_type": "execute_result"
    }
   ],
   "source": [
    "s0 = s1[ np.argsort(s1[:,0], kind='stable')]\n",
    "s0 "
   ]
  },
  {
   "cell_type": "code",
   "execution_count": null,
   "metadata": {},
   "outputs": [],
   "source": []
  }
 ],
 "metadata": {
  "kernelspec": {
   "display_name": "Python 3.8.10 64-bit",
   "language": "python",
   "name": "python3"
  },
  "language_info": {
   "codemirror_mode": {
    "name": "ipython",
    "version": 3
   },
   "file_extension": ".py",
   "mimetype": "text/x-python",
   "name": "python",
   "nbconvert_exporter": "python",
   "pygments_lexer": "ipython3",
   "version": "3.8.10"
  },
  "orig_nbformat": 4,
  "vscode": {
   "interpreter": {
    "hash": "890420746f208cb6ddd22111006905b5179748c11b11778b577dc5b772fa3540"
   }
  }
 },
 "nbformat": 4,
 "nbformat_minor": 2
}
