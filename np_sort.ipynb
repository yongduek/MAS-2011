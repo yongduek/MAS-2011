{
 "cells": [
  {
   "cell_type": "code",
   "execution_count": 1,
   "metadata": {},
   "outputs": [],
   "source": [
    "import numpy as np \n",
    "import matplotlib.pyplot as plt "
   ]
  },
  {
   "cell_type": "code",
   "execution_count": 2,
   "metadata": {},
   "outputs": [],
   "source": [
    "width, height = 2000, 1000 \n"
   ]
  },
  {
   "cell_type": "code",
   "execution_count": 10,
   "metadata": {},
   "outputs": [
    {
     "data": {
      "text/plain": [
       "(array([[20, 20],\n",
       "        [20, 30],\n",
       "        [90, 80],\n",
       "        [20, 70],\n",
       "        [20, 50]]),\n",
       " array([[90, 40],\n",
       "        [20, 30],\n",
       "        [40, 30]]),\n",
       " array([[50, 60],\n",
       "        [10,  0],\n",
       "        [60, 10],\n",
       "        [80, 30]]))"
      ]
     },
     "execution_count": 10,
     "metadata": {},
     "output_type": "execute_result"
    }
   ],
   "source": [
    "a = np.random.randint(0, 10, size=(5, 2)) * 10\n",
    "b = np.random.randint(0, 10, size=(3,2)) * 10\n",
    "c = np.random.randint(0, 10, (4, 2)) * 10\n",
    "a, b, c"
   ]
  },
  {
   "cell_type": "code",
   "execution_count": 9,
   "metadata": {},
   "outputs": [
    {
     "data": {
      "text/plain": [
       "array([[80, 70],\n",
       "       [30, 80],\n",
       "       [90, 50],\n",
       "       [80, 70],\n",
       "       [90,  0],\n",
       "       [90, 10],\n",
       "       [70, 10],\n",
       "       [90, 90],\n",
       "       [50, 20],\n",
       "       [80, 40],\n",
       "       [30, 70],\n",
       "       [20,  0]])"
      ]
     },
     "execution_count": 9,
     "metadata": {},
     "output_type": "execute_result"
    }
   ],
   "source": [
    "s = np.vstack([a, b, c])\n",
    "s"
   ]
  },
  {
   "cell_type": "code",
   "execution_count": 26,
   "metadata": {},
   "outputs": [
    {
     "data": {
      "text/plain": [
       "array([ 4, 11,  5,  6,  8,  9,  2,  0,  3, 10,  1,  7], dtype=int64)"
      ]
     },
     "execution_count": 26,
     "metadata": {},
     "output_type": "execute_result"
    }
   ],
   "source": [
    "# argsort() example\n",
    "a = np.argsort(s[:,1])\n",
    "a"
   ]
  },
  {
   "cell_type": "code",
   "execution_count": 28,
   "metadata": {},
   "outputs": [
    {
     "data": {
      "text/plain": [
       "array([[90,  0],\n",
       "       [20,  0],\n",
       "       [90, 10],\n",
       "       [70, 10],\n",
       "       [50, 20],\n",
       "       [80, 40],\n",
       "       [90, 50],\n",
       "       [80, 70],\n",
       "       [80, 70],\n",
       "       [30, 70],\n",
       "       [30, 80],\n",
       "       [90, 90]])"
      ]
     },
     "execution_count": 28,
     "metadata": {},
     "output_type": "execute_result"
    }
   ],
   "source": [
    "sa = s[a]\n",
    "sa"
   ]
  },
  {
   "cell_type": "code",
   "execution_count": 19,
   "metadata": {},
   "outputs": [
    {
     "data": {
      "text/plain": [
       "array([11, 10,  1,  8,  6,  9,  0,  3,  4,  5,  2,  7], dtype=int64)"
      ]
     },
     "execution_count": 19,
     "metadata": {},
     "output_type": "execute_result"
    }
   ],
   "source": [
    "# lexsort() returns array of indices in descending order\n",
    "ii = np.lexsort( (s[:,1], s[:,0]) )\n",
    "ii "
   ]
  },
  {
   "cell_type": "code",
   "execution_count": 21,
   "metadata": {},
   "outputs": [
    {
     "data": {
      "text/plain": [
       "(array([20,  0]), array([30, 70]), array([30, 80]))"
      ]
     },
     "execution_count": 21,
     "metadata": {},
     "output_type": "execute_result"
    }
   ],
   "source": [
    "s[11], s[10], s[1]"
   ]
  },
  {
   "cell_type": "code",
   "execution_count": 13,
   "metadata": {},
   "outputs": [
    {
     "data": {
      "text/plain": [
       "array([[20,  0],\n",
       "       [30, 70],\n",
       "       [30, 80],\n",
       "       [50, 20],\n",
       "       [70, 10],\n",
       "       [80, 40],\n",
       "       [80, 70],\n",
       "       [80, 70],\n",
       "       [90,  0],\n",
       "       [90, 10],\n",
       "       [90, 50],\n",
       "       [90, 90]])"
      ]
     },
     "execution_count": 13,
     "metadata": {},
     "output_type": "execute_result"
    }
   ],
   "source": [
    "ss = s[ np.lexsort((s[:,1], s[:,0]))]\n",
    "ss"
   ]
  },
  {
   "cell_type": "code",
   "execution_count": 6,
   "metadata": {},
   "outputs": [
    {
     "data": {
      "text/plain": [
       "array([[50,  0],\n",
       "       [90,  0],\n",
       "       [80,  0],\n",
       "       [ 0, 10],\n",
       "       [90, 20],\n",
       "       [50, 20],\n",
       "       [10, 20],\n",
       "       [80, 20],\n",
       "       [80, 60],\n",
       "       [20, 60],\n",
       "       [70, 70],\n",
       "       [50, 70],\n",
       "       [70, 70],\n",
       "       [10, 70],\n",
       "       [10, 80],\n",
       "       [70, 80],\n",
       "       [50, 90]])"
      ]
     },
     "execution_count": 6,
     "metadata": {},
     "output_type": "execute_result"
    }
   ],
   "source": [
    "s1 = s[ np.argsort(s[:, 1])]\n",
    "s1 "
   ]
  },
  {
   "cell_type": "code",
   "execution_count": 7,
   "metadata": {},
   "outputs": [
    {
     "data": {
      "text/plain": [
       "array([[ 0, 10],\n",
       "       [10, 20],\n",
       "       [10, 70],\n",
       "       [10, 80],\n",
       "       [20, 60],\n",
       "       [50,  0],\n",
       "       [50, 20],\n",
       "       [50, 70],\n",
       "       [50, 90],\n",
       "       [70, 70],\n",
       "       [70, 70],\n",
       "       [70, 80],\n",
       "       [80,  0],\n",
       "       [80, 20],\n",
       "       [80, 60],\n",
       "       [90,  0],\n",
       "       [90, 20]])"
      ]
     },
     "execution_count": 7,
     "metadata": {},
     "output_type": "execute_result"
    }
   ],
   "source": [
    "s0 = s1[ np.argsort(s1[:,0], kind='stable')]\n",
    "s0 "
   ]
  },
  {
   "cell_type": "code",
   "execution_count": null,
   "metadata": {},
   "outputs": [],
   "source": []
  }
 ],
 "metadata": {
  "kernelspec": {
   "display_name": "Python 3.8.10 64-bit",
   "language": "python",
   "name": "python3"
  },
  "language_info": {
   "codemirror_mode": {
    "name": "ipython",
    "version": 3
   },
   "file_extension": ".py",
   "mimetype": "text/x-python",
   "name": "python",
   "nbconvert_exporter": "python",
   "pygments_lexer": "ipython3",
   "version": "3.8.10"
  },
  "orig_nbformat": 4,
  "vscode": {
   "interpreter": {
    "hash": "890420746f208cb6ddd22111006905b5179748c11b11778b577dc5b772fa3540"
   }
  }
 },
 "nbformat": 4,
 "nbformat_minor": 2
}
